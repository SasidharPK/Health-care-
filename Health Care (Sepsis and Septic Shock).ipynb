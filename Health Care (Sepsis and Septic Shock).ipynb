{
 "cells": [
  {
   "cell_type": "markdown",
   "id": "f803a3f1",
   "metadata": {},
   "source": [
    "#            Predction of SEPTIC & SHOCK patient admitted in ICU"
   ]
  },
  {
   "cell_type": "markdown",
   "id": "57d6609c",
   "metadata": {},
   "source": [
    "![](sepsis-en-fb.JPG)"
   ]
  },
  {
   "cell_type": "code",
   "execution_count": 2,
   "id": "a15da675",
   "metadata": {},
   "outputs": [],
   "source": [
    "# Sepsis is an inflammatory response to infection, causing symptoms like fever and confusion.\n",
    "# If left untreated, it can lead to septic shock, a life-threatening condition with low blood pressure and organ dysfunction.\n",
    "# Both require urgent medical attention, usually involving antibiotics and supportive care. \n",
    "# Timely treatment is crucial for survival."
   ]
  },
  {
   "cell_type": "markdown",
   "id": "6478f361",
   "metadata": {},
   "source": [
    "![](sepsisnew.jpg)"
   ]
  },
  {
   "cell_type": "code",
   "execution_count": 3,
   "id": "07f61417",
   "metadata": {},
   "outputs": [],
   "source": [
    "# import the basic libraries"
   ]
  },
  {
   "cell_type": "code",
   "execution_count": 4,
   "id": "fedaf42c",
   "metadata": {},
   "outputs": [],
   "source": [
    "import pandas as pd\n",
    "import numpy as np\n",
    "import seaborn as sns\n",
    "import matplotlib.pyplot as plt\n",
    "%matplotlib inline\n",
    "import warnings\n",
    "warnings.filterwarnings(\"ignore\")"
   ]
  },
  {
   "cell_type": "code",
   "execution_count": null,
   "id": "88603e10",
   "metadata": {},
   "outputs": [],
   "source": []
  }
 ],
 "metadata": {
  "kernelspec": {
   "display_name": "Python 3 (ipykernel)",
   "language": "python",
   "name": "python3"
  },
  "language_info": {
   "codemirror_mode": {
    "name": "ipython",
    "version": 3
   },
   "file_extension": ".py",
   "mimetype": "text/x-python",
   "name": "python",
   "nbconvert_exporter": "python",
   "pygments_lexer": "ipython3",
   "version": "3.10.9"
  }
 },
 "nbformat": 4,
 "nbformat_minor": 5
}
